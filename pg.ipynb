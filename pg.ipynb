{
 "cells": [
  {
   "cell_type": "code",
   "execution_count": 6,
   "metadata": {},
   "outputs": [],
   "source": [
    "from joblib import load\n",
    "\n",
    "env = load(\n",
    "    \"/Users/jason/python-project/msbd/msbd6000m/optimal-discrete-time-asset-allocation/data/env_20250315_1742052659.712557_total_turns_5.joblib\"\n",
    ")"
   ]
  },
  {
   "cell_type": "code",
   "execution_count": 7,
   "metadata": {},
   "outputs": [
    {
     "data": {
      "text/plain": [
       "{(0, 1.0): {0.0: 1.5, 1.0: 1.0},\n",
       " (1, 1.0): {0.0: 1.5, 1.0: 1.0},\n",
       " (2, 1.0): {0.0: 1.5, 1.0: 1.0},\n",
       " (3, 1.0): {0.0: 1.5, 1.0: 1.0},\n",
       " (4, 1.0): {0.0: 1.0, 1.0: 1.5}}"
      ]
     },
     "execution_count": 7,
     "metadata": {},
     "output_type": "execute_result"
    }
   ],
   "source": [
    "env.agent.state_action_value_dict\n"
   ]
  }
 ],
 "metadata": {
  "kernelspec": {
   "display_name": "standard-gui",
   "language": "python",
   "name": "python3"
  },
  "language_info": {
   "codemirror_mode": {
    "name": "ipython",
    "version": 3
   },
   "file_extension": ".py",
   "mimetype": "text/x-python",
   "name": "python",
   "nbconvert_exporter": "python",
   "pygments_lexer": "ipython3",
   "version": "3.10.9"
  }
 },
 "nbformat": 4,
 "nbformat_minor": 2
}
